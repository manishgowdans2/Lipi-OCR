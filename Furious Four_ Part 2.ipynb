{
 "cells": [
  {
   "cell_type": "markdown",
   "id": "47894488",
   "metadata": {},
   "source": [
    "# KERAS MODEL FOR IMAGE CLASSIFICATION AND LANGUAGE DETECTION\n",
    "\n",
    "### For *image classification*, a dataset collected from Kaggle, which contains images of Kannada alphabetsi sput to use. Additionally, a csv file that maps the labels to the images respectively is utilized for supervised training.\n",
    "\n",
    "### For *language detection*, a pretrained BERT(Bidirectional Encoder Representations from Transformers) model to classify the text extracted from images."
   ]
  },
  {
   "cell_type": "code",
   "execution_count": 99,
   "id": "302cc8d6",
   "metadata": {},
   "outputs": [],
   "source": [
    "#Import all the necessary libraries to build a model\n",
    "import pandas as pd\n",
    "import numpy as np\n",
    "import matplotlib.pyplot as plt\n",
    "import tensorflow as tf\n",
    "from tensorflow.keras.preprocessing.image import ImageDataGenerator\n",
    "from tensorflow.keras.layers import Conv2D , Flatten , MaxPooling2D , Dense , Dropout\n",
    "from sklearn.model_selection import train_test_split\n",
    "import cv2\n",
    "import warnings\n",
    "warnings.filterwarnings('ignore')"
   ]
  },
  {
   "cell_type": "code",
   "execution_count": 2,
   "id": "24240cba",
   "metadata": {},
   "outputs": [],
   "source": [
    "# load the data from the CSV file\n",
    "data = pd.read_csv('kannada.csv')\n",
    "\n",
    "#Convert the class labels into string datatype so that we  \n",
    "data['class'] = data['class'].astype(str)\n",
    "\n",
    "# Extract the image URLs(of image files) and labels(of each class) from the data\n",
    "urls = data['img'].values\n",
    "labels = data['class'].values\n",
    "\n",
    "# split the data into training and testing sets using train_test_split from sklearn library\n",
    "train_urls, test_urls, train_labels, test_labels = train_test_split(urls, labels, test_size=0.4, random_state=42)"
   ]
  },
  {
   "cell_type": "code",
   "execution_count": 3,
   "id": "201ffff3",
   "metadata": {},
   "outputs": [
    {
     "data": {
      "text/plain": [
       "((9855,), (6570,), (9855,), (6570,))"
      ]
     },
     "execution_count": 3,
     "metadata": {},
     "output_type": "execute_result"
    }
   ],
   "source": [
    "#Visualize the shapes of the dataset after splitting into training and testing directories\n",
    "train_urls.shape , test_urls.shape , train_labels.shape , test_labels.shape"
   ]
  },
  {
   "cell_type": "markdown",
   "id": "c38cea86",
   "metadata": {},
   "source": [
    "#### The *ImageDataGenerator* class of tensorflow Keras API allows generation of batches of images with real-time augmentation, mainly used to load and preprocess images for training deep neural networks"
   ]
  },
  {
   "cell_type": "code",
   "execution_count": 100,
   "id": "29f01ada",
   "metadata": {},
   "outputs": [],
   "source": [
    "#Define an ImageDataGenerator instance\n",
    "\n",
    "data_gen = ImageDataGenerator(rescale=1./255)"
   ]
  },
  {
   "cell_type": "markdown",
   "id": "97f369eb",
   "metadata": {},
   "source": [
    "#### flow_from_dataframe is a method in the ImageDataGenerator that allows creation of a data generator for loading and augmenting images using a Pandas dataframe"
   ]
  },
  {
   "cell_type": "code",
   "execution_count": 101,
   "id": "4d027a14",
   "metadata": {},
   "outputs": [
    {
     "name": "stdout",
     "output_type": "stream",
     "text": [
      "Found 9855 validated image filenames belonging to 657 classes.\n",
      "Found 6570 validated image filenames belonging to 657 classes.\n"
     ]
    }
   ],
   "source": [
    "# create data generators\n",
    "train_data = data_gen.flow_from_dataframe(dataframe=pd.DataFrame({'img': train_urls, 'class': train_labels}),\n",
    "                                              x_col='img', y_col='class',\n",
    "                                              target_size=(28, 28),         #Resultant image size\n",
    "                                              color_mode='grayscale',\n",
    "                                              class_mode='sparse',\n",
    "                                              batch_size=32)                #Batch size for training\n",
    "\n",
    "val_data = data_gen.flow_from_dataframe(dataframe=pd.DataFrame({'img': test_urls, 'class': test_labels}),\n",
    "                                             x_col='img', y_col='class',\n",
    "                                             target_size=(28, 28),          #Resultant image size\n",
    "                                             color_mode='grayscale',\n",
    "                                             class_mode='sparse',\n",
    "                                             batch_size=32)                 #Batch size for training"
   ]
  },
  {
   "cell_type": "code",
   "execution_count": 76,
   "id": "87d3b03d",
   "metadata": {},
   "outputs": [],
   "source": [
    "\"\"\"\n",
    "Define the image preprocessing function that resizes the read image and \n",
    "converts it into gray_scale, followed by type casting it into float type \n",
    "then expanding the dimensions to match the model requirements.\n",
    "\"\"\"\n",
    "def preprocess_image(img):\n",
    "    img = cv2.resize(img, (28, 28))\n",
    "    img = cv2.cvtColor(img, cv2.COLOR_BGR2GRAY)\n",
    "    img = img.astype('float32') / 255.0\n",
    "    img = np.expand_dims(img, axis=-1)\n",
    "    return img"
   ]
  },
  {
   "cell_type": "code",
   "execution_count": 77,
   "id": "a3ebcb97",
   "metadata": {},
   "outputs": [],
   "source": [
    "\"\"\"\n",
    "Define the data generator function that generates batches of images\n",
    "from the csv file and urls and stores them in a list with the \n",
    "respective labels and return them in the form of generator object.\n",
    "\n",
    "\"\"\"\n",
    "def data_generator(data, batch_size=32):\n",
    "    while True:\n",
    "        indices = np.random.randint(len(data), size=batch_size)\n",
    "        batch_data = data.iloc[indices]\n",
    "        batch_images = []\n",
    "        batch_labels = []\n",
    "        for i, row in batch_data.iterrows():\n",
    "            img = np.array(row[1:]).reshape(28,28,1)\n",
    "            label = row[0]\n",
    "            img = preprocess_image(img)\n",
    "            batch_images.append(img)\n",
    "            batch_labels.append(label)\n",
    "        yield np.array(batch_images), np.array(batch_labels)"
   ]
  },
  {
   "cell_type": "code",
   "execution_count": 6,
   "id": "b35ea785",
   "metadata": {},
   "outputs": [],
   "source": [
    "#Define input_shape , batch_size and the number of output classes as some global values\n",
    "\n",
    "input_shape = (28,28,1)\n",
    "batch_size = 32\n",
    "num_classes = 657"
   ]
  },
  {
   "cell_type": "code",
   "execution_count": 7,
   "id": "d1c43d17",
   "metadata": {},
   "outputs": [],
   "source": [
    "#Create a model using Sequential API of the tensorflow library\n",
    "model_0 = tf.keras.Sequential()\n",
    "\n",
    "model_0.add(Conv2D(32 ,kernel_size = (3,3) , activation = 'relu' , padding = 'same' , input_shape = input_shape))\n",
    "model_0.add(MaxPooling2D(pool_size = 2))\n",
    "model_0.add(Conv2D(64 , kernel_size = (3,3) , padding = 'same' , activation = 'relu'))\n",
    "model_0.add(MaxPooling2D(pool_size = 2))\n",
    "\n",
    "model_0.add(Flatten())\n",
    "\n",
    "model_0.add(Dense(128 , activation = 'relu'))\n",
    "model_0.add(Dropout(0.5))\n",
    "\n",
    "model_0.add(Dense(num_classes , activation = 'softmax'))"
   ]
  },
  {
   "cell_type": "code",
   "execution_count": 8,
   "id": "fe294b36",
   "metadata": {},
   "outputs": [],
   "source": [
    "#Define an Adam optimizer with learning rate of 0.001. Learning rate should not be too low or too high to avoid overfitting.\n",
    "optimizer = tf.keras.optimizers.Adam(learning_rate = 0.001)\n",
    "\n",
    "model_0.compile(loss = 'sparse_categorical_crossentropy',\n",
    "                optimizer = optimizer,\n",
    "                metrics = ['accuracy'])"
   ]
  },
  {
   "cell_type": "code",
   "execution_count": 10,
   "id": "c09c7992",
   "metadata": {},
   "outputs": [
    {
     "name": "stdout",
     "output_type": "stream",
     "text": [
      "Epoch 1/30\n",
      "308/308 [==============================] - 203s 660ms/step - loss: 3.3924 - accuracy: 0.2035 - val_loss: 3.1986 - val_accuracy: 0.2578\n",
      "Epoch 2/30\n",
      "308/308 [==============================] - 211s 685ms/step - loss: 3.1629 - accuracy: 0.2342 - val_loss: 3.0237 - val_accuracy: 0.2895\n",
      "Epoch 3/30\n",
      "308/308 [==============================] - 214s 695ms/step - loss: 3.0129 - accuracy: 0.2529 - val_loss: 2.9184 - val_accuracy: 0.2973\n",
      "Epoch 4/30\n",
      "308/308 [==============================] - 217s 704ms/step - loss: 2.8227 - accuracy: 0.2815 - val_loss: 2.7907 - val_accuracy: 0.3142\n",
      "Epoch 5/30\n",
      "308/308 [==============================] - 206s 670ms/step - loss: 2.6860 - accuracy: 0.3076 - val_loss: 2.6934 - val_accuracy: 0.3335\n",
      "Epoch 6/30\n",
      "308/308 [==============================] - 214s 697ms/step - loss: 2.5535 - accuracy: 0.3370 - val_loss: 2.6558 - val_accuracy: 0.3440\n",
      "Epoch 7/30\n",
      "308/308 [==============================] - 213s 691ms/step - loss: 2.4467 - accuracy: 0.3546 - val_loss: 2.6017 - val_accuracy: 0.3530\n",
      "Epoch 8/30\n",
      "308/308 [==============================] - 211s 686ms/step - loss: 2.3207 - accuracy: 0.3761 - val_loss: 2.5455 - val_accuracy: 0.3594\n",
      "Epoch 9/30\n",
      "308/308 [==============================] - 208s 676ms/step - loss: 2.2279 - accuracy: 0.3950 - val_loss: 2.5520 - val_accuracy: 0.3618\n",
      "Epoch 10/30\n",
      "308/308 [==============================] - 206s 669ms/step - loss: 2.1309 - accuracy: 0.4181 - val_loss: 2.4930 - val_accuracy: 0.3796\n",
      "Epoch 11/30\n",
      "308/308 [==============================] - 206s 670ms/step - loss: 2.0684 - accuracy: 0.4231 - val_loss: 2.5155 - val_accuracy: 0.3717\n",
      "Epoch 12/30\n",
      "308/308 [==============================] - 205s 665ms/step - loss: 1.9793 - accuracy: 0.4449 - val_loss: 2.4494 - val_accuracy: 0.3906\n",
      "Epoch 13/30\n",
      "308/308 [==============================] - 204s 665ms/step - loss: 1.8820 - accuracy: 0.4674 - val_loss: 2.4705 - val_accuracy: 0.3965\n",
      "Epoch 14/30\n",
      "308/308 [==============================] - 205s 667ms/step - loss: 1.8808 - accuracy: 0.4651 - val_loss: 2.4660 - val_accuracy: 0.3938\n",
      "Epoch 15/30\n",
      "308/308 [==============================] - 204s 662ms/step - loss: 1.7930 - accuracy: 0.4781 - val_loss: 2.4789 - val_accuracy: 0.4049\n",
      "Epoch 16/30\n",
      "308/308 [==============================] - 204s 663ms/step - loss: 1.7803 - accuracy: 0.4900 - val_loss: 2.4509 - val_accuracy: 0.4084\n",
      "Epoch 17/30\n",
      "308/308 [==============================] - 204s 664ms/step - loss: 1.7026 - accuracy: 0.5030 - val_loss: 2.4605 - val_accuracy: 0.4065\n",
      "Epoch 18/30\n",
      "308/308 [==============================] - 204s 664ms/step - loss: 1.6263 - accuracy: 0.5168 - val_loss: 2.5380 - val_accuracy: 0.4015\n",
      "Epoch 19/30\n",
      "308/308 [==============================] - 204s 663ms/step - loss: 1.5876 - accuracy: 0.5309 - val_loss: 2.5063 - val_accuracy: 0.4024\n",
      "Epoch 20/30\n",
      "308/308 [==============================] - 206s 669ms/step - loss: 1.5724 - accuracy: 0.5320 - val_loss: 2.4833 - val_accuracy: 0.4107\n",
      "Epoch 21/30\n",
      "308/308 [==============================] - 210s 682ms/step - loss: 1.5123 - accuracy: 0.5496 - val_loss: 2.5233 - val_accuracy: 0.4094\n",
      "Epoch 22/30\n",
      "308/308 [==============================] - 204s 663ms/step - loss: 1.4553 - accuracy: 0.5611 - val_loss: 2.5170 - val_accuracy: 0.4166\n",
      "Epoch 23/30\n",
      "308/308 [==============================] - 207s 674ms/step - loss: 1.4323 - accuracy: 0.5683 - val_loss: 2.5515 - val_accuracy: 0.4107\n",
      "Epoch 24/30\n",
      "308/308 [==============================] - 212s 687ms/step - loss: 1.3911 - accuracy: 0.5820 - val_loss: 2.5381 - val_accuracy: 0.4152\n",
      "Epoch 25/30\n",
      "308/308 [==============================] - 206s 671ms/step - loss: 1.3664 - accuracy: 0.5909 - val_loss: 2.5954 - val_accuracy: 0.4020\n",
      "Epoch 26/30\n",
      "308/308 [==============================] - 205s 666ms/step - loss: 1.3272 - accuracy: 0.5954 - val_loss: 2.6803 - val_accuracy: 0.4125\n",
      "Epoch 27/30\n",
      "308/308 [==============================] - 206s 669ms/step - loss: 1.3167 - accuracy: 0.5959 - val_loss: 2.5513 - val_accuracy: 0.4183\n",
      "Epoch 28/30\n",
      "308/308 [==============================] - 208s 677ms/step - loss: 1.2772 - accuracy: 0.6051 - val_loss: 2.6320 - val_accuracy: 0.4143\n",
      "Epoch 29/30\n",
      "308/308 [==============================] - 207s 671ms/step - loss: 1.2478 - accuracy: 0.6161 - val_loss: 2.6555 - val_accuracy: 0.4216\n",
      "Epoch 30/30\n",
      "308/308 [==============================] - 206s 671ms/step - loss: 1.2325 - accuracy: 0.6225 - val_loss: 2.6434 - val_accuracy: 0.4204\n"
     ]
    }
   ],
   "source": [
    "#Fit the model with 40 epochs to achieve a commendable accuracy.\n",
    "history_0 = model_0.fit(train_data,\n",
    "                        validation_data = val_data,\n",
    "                        epochs = 40,\n",
    "                        verbose = 1)\n",
    "                        # steps_per_epoch = int(0.1*len(train_data)),\n",
    "                        # validation_steps = int(0.1*len(val_data)))"
   ]
  },
  {
   "cell_type": "code",
   "execution_count": 11,
   "id": "44411ae9",
   "metadata": {},
   "outputs": [
    {
     "name": "stdout",
     "output_type": "stream",
     "text": [
      "206/206 [==============================] - 79s 384ms/step - loss: 2.6434 - accuracy: 0.4204\n"
     ]
    }
   ],
   "source": [
    "loss,accuracy = model_0.evaluate(val_data)"
   ]
  },
  {
   "cell_type": "code",
   "execution_count": 36,
   "id": "364f3e35",
   "metadata": {},
   "outputs": [
    {
     "name": "stdout",
     "output_type": "stream",
     "text": [
      "Accuracy of the model is: 42.039573192596436\n"
     ]
    }
   ],
   "source": [
    "print(f'Accuracy of the model is: {100*accuracy}')"
   ]
  },
  {
   "cell_type": "code",
   "execution_count": null,
   "id": "3308feba",
   "metadata": {},
   "outputs": [],
   "source": [
    "classnames = np.arange(0,657)"
   ]
  },
  {
   "cell_type": "code",
   "execution_count": 37,
   "id": "dbff443c",
   "metadata": {},
   "outputs": [],
   "source": [
    "\"\"\"\n",
    "Define functions to plot loss and accuracy curves,\n",
    "load image into the console and\n",
    "make predictions and plot them with the predicted label.\n",
    "\"\"\"\n",
    "\n",
    "\n",
    "def loss_and_accuracy(history):\n",
    "    loss = history.history['loss']\n",
    "    val_loss = history.history['val_loss']\n",
    "\n",
    "    accuracy = history.history['accuracy']\n",
    "    val_accuracy = history.history['val_accuracy']\n",
    "\n",
    "    epochs = range(len(history.history['loss']))\n",
    "\n",
    "    plt.plot(epochs , loss , label = 'training_loss')\n",
    "    plt.plot(epochs , val_loss , label = 'validation_loss')\n",
    "    plt.title('Loss Curve')\n",
    "    plt.xlabel('epochs')\n",
    "    plt.legend()\n",
    "  \n",
    "    plt.figure()\n",
    "\n",
    "    plt.plot(epochs , accuracy , label = 'training_accuracy')\n",
    "    plt.plot(epochs , val_accuracy , label = 'validation_accuracy')\n",
    "    plt.title('Accuracy Curve')\n",
    "    plt.xlabel('epochs')\n",
    "    plt.legend()\n",
    "    \n",
    "    \n",
    "def load_image(filename , img_shape=224):\n",
    "\n",
    "    img = tf.io.read_file(filename)\n",
    "\n",
    "    img = tf.image.decode_image(img , channels = 3)\n",
    "\n",
    "    img = tf.image.resize(img , size = [img_shape , img_shape])\n",
    "\n",
    "    img = img/255.\n",
    "\n",
    "    return img\n",
    "\n",
    "\n",
    "def make_predictions(model , filename , classnames):\n",
    "\n",
    "    image = load_image(filename)\n",
    "\n",
    "    pred = model.predict(tf.expand_dims(image , axis=0))\n",
    "\n",
    "    pred_class = classnames[tf.argmax(tf.round(pred)[0])]\n",
    "\n",
    "    plt.imshow(image)\n",
    "    plt.title(f'Predicted class: {pred_class}')\n",
    "\n",
    "    plt.axis(False)"
   ]
  },
  {
   "cell_type": "code",
   "execution_count": 67,
   "id": "60483ba9",
   "metadata": {},
   "outputs": [
    {
     "data": {
      "image/png": "[encoded data removed]",
      "text/plain": [
       "<Figure size 432x288 with 1 Axes>"
      ]
     },
     "metadata": {
      "needs_background": "light"
     },
     "output_type": "display_data"
    },
    {
     "data": {
      "image/png": "[encoded data removed]",
      "text/plain": [
       "<Figure size 432x288 with 1 Axes>"
      ]
     },
     "metadata": {
      "needs_background": "light"
     },
     "output_type": "display_data"
    }
   ],
   "source": [
    "#Visualize the loss and accuracy curves of the model.\n",
    "\n",
    "loss_and_accuracy(history_0)"
   ]
  },
  {
   "cell_type": "code",
   "execution_count": 159,
   "id": "205e4ba0",
   "metadata": {},
   "outputs": [
    {
     "data": {
      "text/plain": [
       "<matplotlib.image.AxesImage at 0x2958c73dc10>"
      ]
     },
     "execution_count": 159,
     "metadata": {},
     "output_type": "execute_result"
    },
    {
     "data": {
      "image/png": "[encoded data removed]",
      "text/plain": [
       "<Figure size 432x288 with 1 Axes>"
      ]
     },
     "metadata": {
      "needs_background": "light"
     },
     "output_type": "display_data"
    }
   ],
   "source": [
    "#For testing, we take a sample image from the dataset and make predictions.\n",
    "\n",
    "img = cv2.imread('img/img044-001.png')\n",
    "image = cv2.imread('img/img002-007.png')\n",
    "plt.imshow(img , cmap = 'gray')"
   ]
  },
  {
   "cell_type": "code",
   "execution_count": 160,
   "id": "d41b2eb5",
   "metadata": {},
   "outputs": [],
   "source": [
    "image = cv2.cvtColor(image, cv2.COLOR_BGR2GRAY)          # Convert to grayscale\n",
    "image = cv2.resize(image, (28, 28))                      # Resize to 28x28\n",
    "image = image.reshape(1, 28, 28, 1)                     # Reshape to (1, 28, 28, 1)\n",
    "image = image / 255.0                                    # Normalize pixel values between 0 and 1"
   ]
  },
  {
   "cell_type": "code",
   "execution_count": 162,
   "id": "6e391fe0",
   "metadata": {},
   "outputs": [
    {
     "data": {
      "text/plain": [
       "657"
      ]
     },
     "execution_count": 162,
     "metadata": {},
     "output_type": "execute_result"
    }
   ],
   "source": [
    "len(classnames)"
   ]
  },
  {
   "cell_type": "code",
   "execution_count": 163,
   "id": "fff18922",
   "metadata": {},
   "outputs": [
    {
     "name": "stdout",
     "output_type": "stream",
     "text": [
      "1/1 [==============================] - 0s 125ms/step\n"
     ]
    }
   ],
   "source": [
    "prediction = model_0.predict(image)"
   ]
  },
  {
   "cell_type": "code",
   "execution_count": 164,
   "id": "30318315",
   "metadata": {},
   "outputs": [],
   "source": [
    "pred_image = classnames[tf.argmax(tf.round(prediction)[0])]"
   ]
  },
  {
   "cell_type": "code",
   "execution_count": 165,
   "id": "a72f993b",
   "metadata": {},
   "outputs": [
    {
     "name": "stdout",
     "output_type": "stream",
     "text": [
      "111\n"
     ]
    }
   ],
   "source": [
    "print(pred_image)"
   ]
  },
  {
   "cell_type": "markdown",
   "id": "d78500de",
   "metadata": {},
   "source": [
    "### The following code is for language detection which is attained using a BERT pre-trained model.\n"
   ]
  },
  {
   "cell_type": "markdown",
   "id": "6c6b4602",
   "metadata": {},
   "source": [
    "**AutoModelForSequenceClassification** is used to classify sentences based on the language they belong to. It is a pre-trained model that uses a pre-trained tokenizer to make predictions."
   ]
  },
  {
   "cell_type": "code",
   "execution_count": 150,
   "id": "06dafd86",
   "metadata": {
    "scrolled": true
   },
   "outputs": [
    {
     "name": "stderr",
     "output_type": "stream",
     "text": [
      "Some weights of the model checkpoint at bert-base-multilingual-cased were not used when initializing BertForSequenceClassification: ['cls.predictions.transform.LayerNorm.weight', 'cls.predictions.transform.dense.weight', 'cls.predictions.decoder.weight', 'cls.seq_relationship.bias', 'cls.predictions.transform.LayerNorm.bias', 'cls.predictions.transform.dense.bias', 'cls.predictions.bias', 'cls.seq_relationship.weight']\n",
      "- This IS expected if you are initializing BertForSequenceClassification from the checkpoint of a model trained on another task or with another architecture (e.g. initializing a BertForSequenceClassification model from a BertForPreTraining model).\n",
      "- This IS NOT expected if you are initializing BertForSequenceClassification from the checkpoint of a model that you expect to be exactly identical (initializing a BertForSequenceClassification model from a BertForSequenceClassification model).\n",
      "Some weights of BertForSequenceClassification were not initialized from the model checkpoint at bert-base-multilingual-cased and are newly initialized: ['classifier.bias', 'classifier.weight']\n",
      "You should probably TRAIN this model on a down-stream task to be able to use it for predictions and inference.\n"
     ]
    },
    {
     "name": "stdout",
     "output_type": "stream",
     "text": [
      "English: 0.13927780091762543\n",
      "Gujurati: 0.13146767020225525\n",
      "Kannada: 0.1405726671218872\n",
      "Hindi: 0.10965803265571594\n",
      "Bengali: 0.12808352708816528\n",
      "Marathi: 0.10694326460361481\n",
      "Tamil: 0.13796767592430115\n",
      "Telegu: 0.10602939873933792\n"
     ]
    },
    {
     "data": {
      "text/plain": [
       "7"
      ]
     },
     "execution_count": 150,
     "metadata": {},
     "output_type": "execute_result"
    }
   ],
   "source": [
    "from transformers import AutoTokenizer, AutoModelForSequenceClassification\n",
    "\n",
    "#text = \"ನಾನು ಇಂದು ಕಾಲೇಜಿಗೆ ಹೋಗುತ್ತಿಲ್ಲ\"\n",
    "text = \"నేను ఈ రోజు కాలేజీకి వెళ్ళడం లేదు\"\n",
    "# Load the pre-trained tokenizer and model\n",
    "tokenizer = AutoTokenizer.from_pretrained(\"bert-base-multilingual-cased\")\n",
    "model = AutoModelForSequenceClassification.from_pretrained(\"bert-base-multilingual-cased\", num_labels=8)\n",
    "\n",
    "# Encode the extracted text\n",
    "encoded_text = tokenizer.encode_plus(\n",
    "    text,\n",
    "    add_special_tokens=True,\n",
    "    padding='max_length',\n",
    "    max_length=128,\n",
    "    return_attention_mask=True,\n",
    "    return_tensors='pt'\n",
    ")\n",
    "\n",
    "# Classify the text using the model\n",
    "outputs = model(**encoded_text)\n",
    "predictions = outputs.logits.softmax(dim=1).detach().numpy()[0]\n",
    "\n",
    "# Print the predicted labels and probabilities\n",
    "labels = [\"English\", \"Gujurati\", \"Kannada\", \"Hindi\", \"Bengali\", \"Marathi\", \"Tamil\", \"Telegu\"]\n",
    "for i in range(len(labels)):\n",
    "    print(f\"{labels[i]}: {predictions[i]}\")\n",
    "    \n",
    "\n",
    "pred = np.argmin(predictions)\n",
    "\n",
    "pred"
   ]
  },
  {
   "cell_type": "code",
   "execution_count": 184,
   "id": "d3ded47a",
   "metadata": {},
   "outputs": [
    {
     "data": {
      "text/plain": [
       "<matplotlib.image.AxesImage at 0x295958ab280>"
      ]
     },
     "execution_count": 184,
     "metadata": {},
     "output_type": "execute_result"
    },
    {
     "data": {
      "image/png": "[encoded data removed]",
      "text/plain": [
       "<Figure size 432x288 with 1 Axes>"
      ]
     },
     "metadata": {
      "needs_background": "light"
     },
     "output_type": "display_data"
    }
   ],
   "source": [
    "image = cv2.imread('C:\\\\Users\\\\anany\\\\Furious Four\\\\nhcd\\\\001_01.jpg')\n",
    "plt.imshow(image)"
   ]
  },
  {
   "cell_type": "code",
   "execution_count": 185,
   "id": "e0ceb650",
   "metadata": {},
   "outputs": [],
   "source": [
    "model_0.save('model.h5')"
   ]
  },
  {
   "cell_type": "code",
   "execution_count": 187,
   "id": "f2a571d0",
   "metadata": {},
   "outputs": [
    {
     "name": "stdout",
     "output_type": "stream",
     "text": [
      "Collecting tensorflowjs"
     ]
    },
    {
     "name": "stderr",
     "output_type": "stream",
     "text": [
      "WARNING: Ignoring invalid distribution -p (c:\\python310\\lib\\site-packages)\n",
      "WARNING: Ignoring invalid distribution - (c:\\python310\\lib\\site-packages)\n",
      "WARNING: Ignoring invalid distribution -p (c:\\python310\\lib\\site-packages)\n",
      "WARNING: Ignoring invalid distribution -0p (c:\\python310\\lib\\site-packages)\n",
      "WARNING: Ignoring invalid distribution -1p (c:\\python310\\lib\\site-packages)\n",
      "WARNING: Ignoring invalid distribution -2p (c:\\python310\\lib\\site-packages)\n",
      "WARNING: Ignoring invalid distribution -3p (c:\\python310\\lib\\site-packages)\n",
      "WARNING: Ignoring invalid distribution -4p (c:\\python310\\lib\\site-packages)\n",
      "WARNING: Ignoring invalid distribution -5p (c:\\python310\\lib\\site-packages)\n",
      "WARNING: Ignoring invalid distribution -6p (c:\\python310\\lib\\site-packages)\n",
      "WARNING: Ignoring invalid distribution -ip (c:\\python310\\lib\\site-packages)\n",
      "ERROR: Cannot install flax because these package versions have conflicting dependencies.\n",
      "ERROR: ResolutionImpossible: for help visit https://pip.pypa.io/en/latest/topics/dependency-resolution/#dealing-with-dependency-conflicts\n"
     ]
    },
    {
     "name": "stdout",
     "output_type": "stream",
     "text": [
      "\n",
      "  Downloading tensorflowjs-4.5.0-py3-none-any.whl (85 kB)\n",
      "     ---------------------------------------- 85.1/85.1 kB 1.6 MB/s eta 0:00:00\n",
      "Collecting flax<0.6.3,>=0.6.2 (from tensorflowjs)\n",
      "  Downloading flax-0.6.2-py3-none-any.whl (189 kB)\n",
      "     -------------------------------------- 189.9/189.9 kB 5.8 MB/s eta 0:00:00\n",
      "Requirement already satisfied: importlib_resources>=5.9.0 in c:\\python310\\lib\\site-packages (from tensorflowjs) (5.12.0)\n",
      "Collecting jax>=0.3.16 (from tensorflowjs)\n",
      "  Downloading jax-0.4.8.tar.gz (1.2 MB)\n",
      "     ---------------------------------------- 1.2/1.2 MB 9.8 MB/s eta 0:00:00\n",
      "  Installing build dependencies: started\n",
      "  Installing build dependencies: finished with status 'done'\n",
      "  Getting requirements to build wheel: started\n",
      "  Getting requirements to build wheel: finished with status 'done'\n",
      "  Preparing metadata (pyproject.toml): started\n",
      "  Preparing metadata (pyproject.toml): finished with status 'done'\n",
      "Collecting tensorflow<3,>=2.12.0 (from tensorflowjs)\n",
      "  Downloading tensorflow-2.12.0-cp310-cp310-win_amd64.whl (1.9 kB)\n",
      "INFO: pip is looking at multiple versions of tensorflowjs to determine which version is compatible with other requirements. This could take a while.\n",
      "Collecting tensorflowjs\n",
      "  Downloading tensorflowjs-4.4.0-py3-none-any.whl (85 kB)\n",
      "     ---------------------------------------- 85.1/85.1 kB ? eta 0:00:00\n",
      "Collecting flax>=0.6.2 (from tensorflowjs)\n",
      "  Downloading flax-0.6.9-py3-none-any.whl (226 kB)\n",
      "     ---------------------------------------- 226.2/226.2 kB ? eta 0:00:00\n",
      "Collecting protobuf<3.20,>=3.9.2 (from tensorflowjs)\n",
      "  Downloading protobuf-3.19.6-cp310-cp310-win_amd64.whl (895 kB)\n",
      "     -------------------------------------- 895.7/895.7 kB 9.4 MB/s eta 0:00:00\n",
      "Collecting tensorflowjs\n",
      "  Downloading tensorflowjs-4.3.0-py3-none-any.whl (85 kB)\n",
      "     ---------------------------------------- 85.1/85.1 kB ? eta 0:00:00\n",
      "  Downloading tensorflowjs-4.2.0-py3-none-any.whl (84 kB)\n",
      "     ---------------------------------------- 84.5/84.5 kB 4.9 MB/s eta 0:00:00\n",
      "  Downloading tensorflowjs-4.1.0-py3-none-any.whl (84 kB)\n",
      "     ---------------------------------------- 84.2/84.2 kB 4.6 MB/s eta 0:00:00\n",
      "  Downloading tensorflowjs-4.0.0-py3-none-any.whl (83 kB)\n",
      "     ---------------------------------------- 83.7/83.7 kB 4.6 MB/s eta 0:00:00\n",
      "  Downloading tensorflowjs-3.21.0-py3-none-any.whl (81 kB)\n",
      "     ---------------------------------------- 81.2/81.2 kB 4.4 MB/s eta 0:00:00\n",
      "Requirement already satisfied: six<2,>=1.12.0 in c:\\python310\\lib\\site-packages (from tensorflowjs) (1.16.0)\n",
      "Collecting tensorflow-hub<0.13,>=0.7.0 (from tensorflowjs)\n",
      "  Downloading tensorflow_hub-0.12.0-py2.py3-none-any.whl (108 kB)\n",
      "     ---------------------------------------- 108.8/108.8 kB ? eta 0:00:00\n",
      "Collecting packaging~=20.9 (from tensorflowjs)\n",
      "  Downloading packaging-20.9-py2.py3-none-any.whl (40 kB)\n",
      "     ---------------------------------------- 40.9/40.9 kB 1.9 MB/s eta 0:00:00\n",
      "Requirement already satisfied: numpy>=1.12 in c:\\python310\\lib\\site-packages (from flax>=0.6.2->tensorflowjs) (1.23.3)\n",
      "Collecting msgpack (from flax>=0.6.2->tensorflowjs)\n",
      "  Downloading msgpack-1.0.5-cp310-cp310-win_amd64.whl (61 kB)\n",
      "     ---------------------------------------- 61.6/61.6 kB 3.4 MB/s eta 0:00:00\n",
      "Collecting optax (from flax>=0.6.2->tensorflowjs)\n",
      "  Downloading optax-0.1.5-py3-none-any.whl (164 kB)\n",
      "     ------------------------------------- 164.6/164.6 kB 10.3 MB/s eta 0:00:00\n",
      "Collecting orbax-checkpoint (from flax>=0.6.2->tensorflowjs)\n",
      "  Downloading orbax_checkpoint-0.2.1-py3-none-any.whl (78 kB)\n",
      "     ---------------------------------------- 79.0/79.0 kB ? eta 0:00:00\n",
      "Collecting tensorstore (from flax>=0.6.2->tensorflowjs)\n",
      "  Downloading tensorstore-0.1.36-cp310-cp310-win_amd64.whl (8.4 MB)\n",
      "     ---------------------------------------- 8.4/8.4 MB 9.1 MB/s eta 0:00:00\n",
      "Collecting rich>=11.1 (from flax>=0.6.2->tensorflowjs)\n",
      "  Downloading rich-13.3.5-py3-none-any.whl (238 kB)\n",
      "     ---------------------------------------- 238.7/238.7 kB ? eta 0:00:00\n",
      "Requirement already satisfied: typing-extensions>=4.1.1 in c:\\python310\\lib\\site-packages (from flax>=0.6.2->tensorflowjs) (4.4.0)\n",
      "Collecting PyYAML>=5.4.1 (from flax>=0.6.2->tensorflowjs)\n",
      "  Using cached PyYAML-6.0-cp310-cp310-win_amd64.whl (151 kB)\n",
      "Collecting ml-dtypes>=0.0.3 (from jax>=0.3.16->tensorflowjs)\n",
      "  Downloading ml_dtypes-0.1.0-cp310-cp310-win_amd64.whl (120 kB)\n",
      "     -------------------------------------- 120.4/120.4 kB 6.9 MB/s eta 0:00:00\n",
      "Collecting opt-einsum (from jax>=0.3.16->tensorflowjs)\n",
      "  Using cached opt_einsum-3.3.0-py3-none-any.whl (65 kB)\n",
      "Requirement already satisfied: scipy>=1.7 in c:\\python310\\lib\\site-packages (from jax>=0.3.16->tensorflowjs) (1.9.2)\n",
      "Requirement already satisfied: pyparsing>=2.0.2 in c:\\python310\\lib\\site-packages (from packaging~=20.9->tensorflowjs) (3.0.9)\n",
      "Collecting tensorflow-intel==2.12.0 (from tensorflow<3,>=2.12.0->tensorflowjs)\n",
      "  Downloading tensorflow_intel-2.12.0-cp310-cp310-win_amd64.whl (272.8 MB)\n",
      "     -------------------------------------- 272.8/272.8 MB 4.7 MB/s eta 0:00:00\n",
      "Requirement already satisfied: absl-py>=1.0.0 in c:\\python310\\lib\\site-packages (from tensorflow-intel==2.12.0->tensorflow<3,>=2.12.0->tensorflowjs) (1.4.0)\n",
      "Collecting astunparse>=1.6.0 (from tensorflow-intel==2.12.0->tensorflow<3,>=2.12.0->tensorflowjs)\n",
      "  Using cached astunparse-1.6.3-py2.py3-none-any.whl (12 kB)\n",
      "Collecting flatbuffers>=2.0 (from tensorflow-intel==2.12.0->tensorflow<3,>=2.12.0->tensorflowjs)\n",
      "  Downloading flatbuffers-23.3.3-py2.py3-none-any.whl (26 kB)\n",
      "Collecting gast<=0.4.0,>=0.2.1 (from tensorflow-intel==2.12.0->tensorflow<3,>=2.12.0->tensorflowjs)\n",
      "  Using cached gast-0.4.0-py3-none-any.whl (9.8 kB)\n",
      "Collecting google-pasta>=0.1.1 (from tensorflow-intel==2.12.0->tensorflow<3,>=2.12.0->tensorflowjs)\n",
      "  Using cached google_pasta-0.2.0-py3-none-any.whl (57 kB)\n",
      "Collecting h5py>=2.9.0 (from tensorflow-intel==2.12.0->tensorflow<3,>=2.12.0->tensorflowjs)\n",
      "  Downloading h5py-3.8.0-cp310-cp310-win_amd64.whl (2.6 MB)\n",
      "     ---------------------------------------- 2.6/2.6 MB 8.8 MB/s eta 0:00:00\n",
      "Collecting libclang>=13.0.0 (from tensorflow-intel==2.12.0->tensorflow<3,>=2.12.0->tensorflowjs)\n",
      "  Downloading libclang-16.0.0-py2.py3-none-win_amd64.whl (24.4 MB)\n",
      "     ---------------------------------------- 24.4/24.4 MB 8.7 MB/s eta 0:00:00\n",
      "INFO: pip is looking at multiple versions of tensorflow-intel to determine which version is compatible with other requirements. This could take a while.\n",
      "Collecting tensorflow<3,>=2.1.0 (from tensorflowjs)\n",
      "  Downloading tensorflow-2.11.1-cp310-cp310-win_amd64.whl (1.9 kB)\n",
      "Collecting tensorflow-intel==2.11.1 (from tensorflow<3,>=2.1.0->tensorflowjs)\n",
      "  Downloading tensorflow_intel-2.11.1-cp310-cp310-win_amd64.whl (266.3 MB)\n",
      "     -------------------------------------- 266.3/266.3 MB 5.0 MB/s eta 0:00:00\n",
      "Requirement already satisfied: setuptools in c:\\python310\\lib\\site-packages (from tensorflow-intel==2.11.1->tensorflow<3,>=2.1.0->tensorflowjs) (63.2.0)\n",
      "Requirement already satisfied: termcolor>=1.1.0 in c:\\python310\\lib\\site-packages (from tensorflow-intel==2.11.1->tensorflow<3,>=2.1.0->tensorflowjs) (2.3.0)\n",
      "Requirement already satisfied: wrapt>=1.11.0 in c:\\python310\\lib\\site-packages (from tensorflow-intel==2.11.1->tensorflow<3,>=2.1.0->tensorflowjs) (1.15.0)\n",
      "Collecting grpcio<2.0,>=1.24.3 (from tensorflow-intel==2.11.1->tensorflow<3,>=2.1.0->tensorflowjs)\n",
      "  Using cached grpcio-1.54.0-cp310-cp310-win_amd64.whl (4.1 MB)\n",
      "Collecting tensorboard<2.12,>=2.11 (from tensorflow-intel==2.11.1->tensorflow<3,>=2.1.0->tensorflowjs)\n",
      "  Downloading tensorboard-2.11.2-py3-none-any.whl (6.0 MB)\n",
      "     ---------------------------------------- 6.0/6.0 MB 8.9 MB/s eta 0:00:00\n",
      "Collecting tensorflow-estimator<2.12,>=2.11.0 (from tensorflow-intel==2.11.1->tensorflow<3,>=2.1.0->tensorflowjs)\n",
      "  Downloading tensorflow_estimator-2.11.0-py2.py3-none-any.whl (439 kB)\n",
      "     -------------------------------------- 439.2/439.2 kB 9.1 MB/s eta 0:00:00\n",
      "Collecting keras<2.12,>=2.11.0 (from tensorflow-intel==2.11.1->tensorflow<3,>=2.1.0->tensorflowjs)\n",
      "  Downloading keras-2.11.0-py2.py3-none-any.whl (1.7 MB)\n",
      "     ---------------------------------------- 1.7/1.7 MB 8.9 MB/s eta 0:00:00\n",
      "Collecting tensorflow-io-gcs-filesystem>=0.23.1 (from tensorflow-intel==2.11.1->tensorflow<3,>=2.1.0->tensorflowjs)\n",
      "  Downloading tensorflow_io_gcs_filesystem-0.31.0-cp310-cp310-win_amd64.whl (1.5 MB)\n",
      "     ---------------------------------------- 1.5/1.5 MB 9.5 MB/s eta 0:00:00\n",
      "Collecting markdown-it-py<3.0.0,>=2.2.0 (from rich>=11.1->flax>=0.6.2->tensorflowjs)\n",
      "  Downloading markdown_it_py-2.2.0-py3-none-any.whl (84 kB)\n",
      "     ---------------------------------------- 84.5/84.5 kB ? eta 0:00:00\n",
      "Requirement already satisfied: pygments<3.0.0,>=2.13.0 in c:\\python310\\lib\\site-packages (from rich>=11.1->flax>=0.6.2->tensorflowjs) (2.13.0)\n",
      "Collecting chex>=0.1.5 (from optax->flax>=0.6.2->tensorflowjs)\n",
      "  Downloading chex-0.1.7-py3-none-any.whl (89 kB)\n",
      "     ---------------------------------------- 89.6/89.6 kB ? eta 0:00:00\n",
      "INFO: pip is looking at multiple versions of optax to determine which version is compatible with other requirements. This could take a while.\n",
      "Collecting optax (from flax>=0.6.2->tensorflowjs)\n",
      "  Downloading optax-0.1.4-py3-none-any.whl (154 kB)\n",
      "     -------------------------------------- 154.9/154.9 kB 9.6 MB/s eta 0:00:00\n",
      "  Downloading optax-0.1.3-py3-none-any.whl (145 kB)\n",
      "     -------------------------------------- 145.1/145.1 kB 8.4 MB/s eta 0:00:00\n",
      "  Downloading optax-0.1.2-py3-none-any.whl (140 kB)\n",
      "     ---------------------------------------- 140.7/140.7 kB ? eta 0:00:00\n",
      "  Downloading optax-0.1.1-py3-none-any.whl (136 kB)\n",
      "     -------------------------------------- 136.3/136.3 kB 8.4 MB/s eta 0:00:00\n",
      "  Downloading optax-0.1.0-py3-none-any.whl (126 kB)\n",
      "     ---------------------------------------- 126.9/126.9 kB ? eta 0:00:00\n",
      "  Downloading optax-0.0.91-py3-none-any.whl (126 kB)\n",
      "     -------------------------------------- 126.9/126.9 kB 7.3 MB/s eta 0:00:00\n",
      "  Downloading optax-0.0.9-py3-none-any.whl (118 kB)\n",
      "     -------------------------------------- 119.0/119.0 kB 6.8 MB/s eta 0:00:00\n",
      "INFO: pip is looking at multiple versions of optax to determine which version is compatible with other requirements. This could take a while.\n",
      "  Downloading optax-0.0.8-py3-none-any.whl (113 kB)\n",
      "     ---------------------------------------- 113.2/113.2 kB ? eta 0:00:00\n",
      "  Downloading optax-0.0.6-py3-none-any.whl (96 kB)\n",
      "     ---------------------------------------- 96.2/96.2 kB ? eta 0:00:00\n",
      "  Downloading optax-0.0.5-py3-none-any.whl (89 kB)\n",
      "     ---------------------------------------- 89.7/89.7 kB 5.0 MB/s eta 0:00:00\n",
      "  Downloading optax-0.0.3-py3-none-any.whl (73 kB)\n",
      "     ---------------------------------------- 73.7/73.7 kB 4.2 MB/s eta 0:00:00\n",
      "  Downloading optax-0.0.2-py3-none-any.whl (54 kB)\n",
      "     ---------------------------------------- 54.4/54.4 kB ? eta 0:00:00\n",
      "INFO: This is taking longer than usual. You might need to provide the dependency resolver with stricter constraints to reduce runtime. See https://pip.pypa.io/warnings/backtracking for guidance. If you want to abort this run, press Ctrl + C.\n",
      "  Downloading optax-0.0.1-py3-none-any.whl (49 kB)\n",
      "     ---------------------------------------- 49.4/49.4 kB ? eta 0:00:00\n",
      "Collecting flax>=0.5.3 (from tensorflowjs)\n",
      "  Downloading flax-0.6.8-py3-none-any.whl (216 kB)\n",
      "     ------------------------------------- 216.0/216.0 kB 12.9 MB/s eta 0:00:00\n",
      "Collecting orbax (from flax>=0.5.3->tensorflowjs)\n",
      "  Downloading orbax-0.1.7-py3-none-any.whl (77 kB)\n",
      "     ---------------------------------------- 77.5/77.5 kB 4.2 MB/s eta 0:00:00\n",
      "Collecting flax>=0.5.3 (from tensorflowjs)\n",
      "  Downloading flax-0.6.7-py3-none-any.whl (214 kB)\n",
      "     ------------------------------------- 214.2/214.2 kB 13.6 MB/s eta 0:00:00\n",
      "  Downloading flax-0.6.6-py3-none-any.whl (210 kB)\n",
      "     ------------------------------------- 210.1/210.1 kB 12.5 MB/s eta 0:00:00\n",
      "Requirement already satisfied: matplotlib in c:\\python310\\lib\\site-packages (from flax>=0.5.3->tensorflowjs) (3.6.2)\n",
      "  Downloading flax-0.6.4-py3-none-any.whl (204 kB)\n",
      "     ------------------------------------- 204.3/204.3 kB 12.1 MB/s eta 0:00:00\n",
      "  Downloading flax-0.6.3-py3-none-any.whl (197 kB)\n",
      "     ------------------------------------- 197.4/197.4 kB 11.7 MB/s eta 0:00:00\n",
      "  Downloading flax-0.6.1-py3-none-any.whl (185 kB)\n",
      "     ------------------------------------- 185.6/185.6 kB 11.0 MB/s eta 0:00:00\n",
      "  Downloading flax-0.6.0-py3-none-any.whl (180 kB)\n",
      "     ------------------------------------- 180.1/180.1 kB 11.3 MB/s eta 0:00:00\n",
      "Collecting rich~=11.1 (from flax>=0.5.3->tensorflowjs)\n",
      "  Downloading rich-11.2.0-py3-none-any.whl (217 kB)\n",
      "     ------------------------------------- 217.3/217.3 kB 12.9 MB/s eta 0:00:00\n",
      "Collecting flax>=0.5.3 (from tensorflowjs)\n",
      "  Downloading flax-0.5.3-py3-none-any.whl (202 kB)\n",
      "     ------------------------------------- 202.0/202.0 kB 12.8 MB/s eta 0:00:00\n",
      "\n",
      "The conflict is caused by:\n",
      "    optax 0.1.5 depends on jaxlib>=0.1.37\n",
      "    optax 0.1.4 depends on jaxlib>=0.1.37\n",
      "    optax 0.1.3 depends on jaxlib>=0.1.37\n",
      "    optax 0.1.2 depends on jaxlib>=0.1.37\n",
      "    optax 0.1.1 depends on jaxlib>=0.1.37\n",
      "    optax 0.1.0 depends on jaxlib>=0.1.37\n",
      "    optax 0.0.91 depends on jaxlib>=0.1.37\n",
      "    optax 0.0.9 depends on jaxlib>=0.1.37\n",
      "    optax 0.0.8 depends on jaxlib>=0.1.37\n",
      "    optax 0.0.6 depends on jaxlib>=0.1.37\n",
      "    optax 0.0.5 depends on jaxlib>=0.1.37\n",
      "    optax 0.0.3 depends on jaxlib>=0.1.37\n",
      "    optax 0.0.2 depends on jaxlib>=0.1.37\n",
      "    optax 0.0.1 depends on jaxlib>=0.1.37\n",
      "\n",
      "To fix this you could try to:\n",
      "1. loosen the range of package versions you've specified\n",
      "2. remove package versions to allow pip attempt to solve the dependency conflict\n",
      "\n"
     ]
    },
    {
     "name": "stderr",
     "output_type": "stream",
     "text": [
      "'tensorflowjs_converter' is not recognized as an internal or external command,\n",
      "operable program or batch file.\n"
     ]
    },
    {
     "data": {
      "text/plain": [
       "'model.h5mnist-model'"
      ]
     },
     "execution_count": 187,
     "metadata": {},
     "output_type": "execute_result"
    }
   ],
   "source": [
    "!pip install tensorflowjs\n"
   ]
  },
  {
   "cell_type": "code",
   "execution_count": 190,
   "id": "c16a3c10",
   "metadata": {},
   "outputs": [
    {
     "ename": "SyntaxError",
     "evalue": "invalid syntax (2736337898.py, line 1)",
     "output_type": "error",
     "traceback": [
      "\u001b[1;36m  Input \u001b[1;32mIn [190]\u001b[1;36m\u001b[0m\n\u001b[1;33m    tensorflowjs_converter --input_format keras 'model.h5' 'mnist-model'\u001b[0m\n\u001b[1;37m                                          ^\u001b[0m\n\u001b[1;31mSyntaxError\u001b[0m\u001b[1;31m:\u001b[0m invalid syntax\n"
     ]
    }
   ],
   "source": [
    "tensorflowjs_converter --input_format keras 'model.h5' 'mnist-model'"
   ]
  },
  {
   "cell_type": "code",
   "execution_count": null,
   "id": "acfad06f",
   "metadata": {},
   "outputs": [],
   "source": []
  }
 ],
 "metadata": {
  "kernelspec": {
   "display_name": "Python 3 (ipykernel)",
   "language": "python",
   "name": "python3"
  },
  "language_info": {
   "codemirror_mode": {
    "name": "ipython",
    "version": 3
   },
   "file_extension": ".py",
   "mimetype": "text/x-python",
   "name": "python",
   "nbconvert_exporter": "python",
   "pygments_lexer": "ipython3",
   "version": "3.9.5"
  }
 },
 "nbformat": 4,
 "nbformat_minor": 5
}
